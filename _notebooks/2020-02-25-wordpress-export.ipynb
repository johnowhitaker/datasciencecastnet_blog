{
 "cells": [
  {
   "cell_type": "markdown",
   "metadata": {},
   "source": [
    "# WordPress to Fastpages\n",
    "> Converting wordpress blogs to fastpages"
   ]
  },
  {
   "cell_type": "markdown",
   "metadata": {},
   "source": [
    "I'm testing out fastpages - a great new tool that (among other things) let's you write blog posts in Jupyter and host them for free using Github pages. This post documents how I moved my past blog posts across from wordpress (datasciencecastnet.home.blog) into fastpages.\n",
    "\n",
    "## The Steps\n",
    "\n",
    "These are the basic steps I followed:\n",
    "\n",
    "- Set up a fastpages repository by following the instructions (https://fastpages.fast.ai/fastpages/jupyter/2020/02/21/introducing-fastpages.html)\n",
    "- Export XML from wordpress. I used the standard process, Tools -> Export -> Export All (https://wordpress.org/support/article/tools-export-screen/) to get an XML file that contains all my posts etc.\n",
    "- Convert the XML export to markdown. I used https://github.com/lonekorean/wordpress-export-to-markdown. I had to install npm with ‘sudo apt install npm’ and then I placed my XML file in the same folder as the script and ran ‘npx wordpress-export-to-markdown’, following the prompts to create files with the right date format. I chose not to place them in separate folders, and didn’t save images scraped from the post body since this caused an error. You can drop these markdown files into the `_posts` folder of your fastpages repository - they'll appear as soon as it finished building!\n",
    "\n",
    "Some optional extra steps to deal with images:\n",
    "\n",
    "- Export the media from my wordpress. The markdown files link to images hosted by wordpress, but these seem to load really slowly. Exporting the images and saving them in a 'wordpress_export' folder within the 'images' folder of the fastpages blog let's you have full control over the images and hosting. \n",
    "- Change the image references in the markdown posts. There are various ways you could do this, but since this post is a jupyter notebook let's do it with a bit of python code!\n"
   ]
  },
  {
   "cell_type": "code",
   "execution_count": 1,
   "metadata": {},
   "outputs": [],
   "source": [
    "# Get a list of posts\n",
    "import glob\n",
    "posts = glob.glob('../_posts/*.md')\n",
    "\n",
    "# replace the image URLs to point to our new images\n",
    "for post in posts:\n",
    "    s = open(post, 'r').read()\n",
    "    s = s.replace('https://datasciencecastnethome.files.wordpress.com', '{{ site.baseurl }}/images/wordpress_export')\n",
    "    f = open(post, 'w')\n",
    "    f.write(s)\n",
    "    f.close()"
   ]
  },
  {
   "cell_type": "markdown",
   "metadata": {},
   "source": [
    "Push your changes, and wait a few minutes for the build process to finish. Then check out your shiny new blog!"
   ]
  }
 ],
 "metadata": {
  "kernelspec": {
   "display_name": "Python 3",
   "language": "python",
   "name": "python3"
  },
  "language_info": {
   "codemirror_mode": {
    "name": "ipython",
    "version": 3
   },
   "file_extension": ".py",
   "mimetype": "text/x-python",
   "name": "python",
   "nbconvert_exporter": "python",
   "pygments_lexer": "ipython3",
   "version": "3.7.4"
  }
 },
 "nbformat": 4,
 "nbformat_minor": 2
}
