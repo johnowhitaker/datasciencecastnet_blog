{
 "cells": [
  {
   "cell_type": "markdown",
   "metadata": {},
   "source": [
    "# Wordpress -> fastpages\n",
    "\n",
    "Intro and description"
   ]
  },
  {
   "cell_type": "markdown",
   "metadata": {},
   "source": [
    "# Scraping Images\n",
    "\n",
    "reskj"
   ]
  },
  {
   "cell_type": "code",
   "execution_count": 1,
   "metadata": {},
   "outputs": [],
   "source": [
    "# Get a list of posts\n",
    "import glob\n",
    "posts = glob.glob('../_posts/*.md')\n",
    "\n",
    "# replace the image URLs to point to out images\n",
    "for post in posts:\n",
    "    s = open(post, 'r').read()\n",
    "    s = s.replace('https://datasciencecastnethome.files.wordpress.com', 'images/wordpress_export')\n",
    "    f = open(post, 'w')\n",
    "    f.write(s)\n",
    "    f.close()"
   ]
  },
  {
   "cell_type": "code",
   "execution_count": null,
   "metadata": {},
   "outputs": [],
   "source": []
  },
  {
   "cell_type": "code",
   "execution_count": null,
   "metadata": {},
   "outputs": [],
   "source": [
    "import re\n",
    "# Markdown images look like ![](https://datasciencecastnethome.files.wordpress.com/2019/05/ring_of_8_kapton.jpeg)\n",
    "exp = re.compile(r\"https://datasciencecastnethome.files.wordpress.com\\/*\\)\", re.MULTILINE|re.UNICODE)"
   ]
  },
  {
   "cell_type": "code",
   "execution_count": null,
   "metadata": {},
   "outputs": [],
   "source": [
    "strs = ' look like ![](https://datasciencecastnethome.files.wordpress.com/2019/05/ring_of_8_kapton.jpeg) '\n",
    "urls = re.findall(r'[https][\\S\\.-]+', strs)\n",
    "urls"
   ]
  },
  {
   "cell_type": "code",
   "execution_count": null,
   "metadata": {},
   "outputs": [],
   "source": [
    "# Open a post and get image links\n",
    "def get_ims(post_file):\n",
    "    urls = [s[:-1] for s in re.findall(r'https[\\S\\.-]+', open(post_file).read())]\n",
    "    img_urls = []\n",
    "    for url in urls:\n",
    "        url = url.split('?')[0]\n",
    "        image_extensions = ('.ras', '.xwd', '.bmp', '.jpe', '.jpg', '.jpeg', '.xpm', '.ief', '.pbm', '.tif', '.gif', '.ppm', '.xbm', '.tiff', '.rgb', '.pgm', '.png', '.pnm')\n",
    "        for im_ext in image_extensions:\n",
    "            if url.lower().endswith(im_ext):\n",
    "                img_urls.append(url)\n",
    "    return img_urls\n",
    "get_ims(posts[3])"
   ]
  },
  {
   "cell_type": "code",
   "execution_count": null,
   "metadata": {},
   "outputs": [],
   "source": [
    "# Ref: https://www.dev2qa.com/how-to-download-image-file-from-url-use-python-requests-or-wget-module/\n",
    "import requests\n",
    "import shutil\n",
    "import os\n",
    "def download_im(url, fn):\n",
    "#     os.system(f'wget {url} -o {fn}')\n",
    "#     doc = requests.get(url)\n",
    "#     with open(fn, 'wb') as f:\n",
    "#         f.write(doc.content)\n",
    "    resp = requests.get(url, stream=True)\n",
    "    local_file = open(fn, 'wb')\n",
    "    resp.raw.decode_content = True\n",
    "    shutil.copyfileobj(resp.raw, local_file)\n",
    "    del resp\n",
    "    local_file.close()"
   ]
  },
  {
   "cell_type": "code",
   "execution_count": null,
   "metadata": {},
   "outputs": [],
   "source": [
    "for post in posts:\n",
    "    s = open(post, 'r').read()\n",
    "    ims = get_ims(post)\n",
    "    for im in ims:\n",
    "        print('Downloading ', im)\n",
    "        new_path = '../images/'+im.split('/')[-1]\n",
    "        if not os.path.isfile(new_path): # Don't re-download ones we've already done\n",
    "            download_im(im, new_path)\n",
    "        if os.path.isfile(new_path): # Check that the file exists\n",
    "            s = s.replace(im, new_path) # Update text\n",
    "            print('Replaced', im, ' with ', new_path)\n",
    "    f = open(post, 'w')\n",
    "    f.write(s)\n",
    "    f.close()"
   ]
  },
  {
   "cell_type": "code",
   "execution_count": null,
   "metadata": {},
   "outputs": [],
   "source": [
    "import requests\n",
    "import shutil\n",
    "# This is the image url.\n",
    "image_url = \"https://www.dev2qa.com/demo/images/green_button.jpg\"\n",
    "# Open the url image, set stream to True, this will return the stream content.\n",
    "resp = requests.get(image_url, stream=True)\n",
    "# Open a local file with wb ( write binary ) permission.\n",
    "local_file = open('local_image.jpg', 'wb')\n",
    "# Set decode_content value to True, otherwise the downloaded image file's size will be zero.\n",
    "resp.raw.decode_content = True\n",
    "# Copy the response stream raw data to local image file.\n",
    "shutil.copyfileobj(resp.raw, local_file)\n",
    "# Remove the image url response object.\n",
    "del resp"
   ]
  }
 ],
 "metadata": {
  "kernelspec": {
   "display_name": "Python 3",
   "language": "python",
   "name": "python3"
  },
  "language_info": {
   "codemirror_mode": {
    "name": "ipython",
    "version": 3
   },
   "file_extension": ".py",
   "mimetype": "text/x-python",
   "name": "python",
   "nbconvert_exporter": "python",
   "pygments_lexer": "ipython3",
   "version": "3.7.4"
  }
 },
 "nbformat": 4,
 "nbformat_minor": 2
}
